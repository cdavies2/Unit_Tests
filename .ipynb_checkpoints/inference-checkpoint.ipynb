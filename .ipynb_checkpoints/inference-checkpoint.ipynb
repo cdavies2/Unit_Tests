{
 "cells": [
  {
   "cell_type": "code",
   "execution_count": 1,
   "id": "706f2c9f-8072-4f04-ac3e-dd1dcb2cf9cf",
   "metadata": {},
   "outputs": [
    {
     "name": "stderr",
     "output_type": "stream",
     "text": [
      "/home/ac.cdavies/.venv/lib/python3.12/site-packages/tqdm/auto.py:21: TqdmWarning: IProgress not found. Please update jupyter and ipywidgets. See https://ipywidgets.readthedocs.io/en/stable/user_install.html\n",
      "  from .autonotebook import tqdm as notebook_tqdm\n"
     ]
    }
   ],
   "source": [
    "import torch\n",
    "import transformers"
   ]
  },
  {
   "cell_type": "code",
   "execution_count": 2,
   "id": "1ce58aed-7cb1-467c-a796-1cea508aa28c",
   "metadata": {},
   "outputs": [
    {
     "name": "stderr",
     "output_type": "stream",
     "text": [
      "Device set to use cpu\n",
      "Loading checkpoint shards: 100%|██████| 2/2 [00:00<00:00,  4.51it/s]\n",
      "Device set to use cpu\n"
     ]
    }
   ],
   "source": [
    "def get_pipeline(model_id, **kwargs):\n",
    "    return transformers.pipeline(\n",
    "        \"text-generation\",\n",
    "        device_map=\"auto\",\n",
    "        max_new_tokens=128,\n",
    "        model=model_id,\n",
    "        model_kwargs={\n",
    "            \"torch_dtype\": torch.bfloat16,\n",
    "        },\n",
    "        **kwargs,\n",
    "    )\n",
    "\n",
    "pipelines = {\n",
    "    \"llama3\": get_pipeline(\"meta-llama/Llama-3.2-1B\"),\n",
    "    \"mistral\": get_pipeline(\"mistralai/Mistral-7B-v0.1\"),\n",
    "}"
   ]
  },
  {
   "cell_type": "code",
   "execution_count": null,
   "id": "0cbb0a14-0035-4bb0-bf14-beb2bbce33f0",
   "metadata": {},
   "outputs": [
    {
     "name": "stderr",
     "output_type": "stream",
     "text": [
      "Downloading shards:   7%|▋          | 2/30 [03:42<52:06, 111.66s/it]"
     ]
    }
   ],
   "source": [
    "from transformers import pipeline\n",
    "pipe=pipeline(\"text-generation\", \"meta-llama/Llama-3.3-70B-Instruct\")\n",
    "messages=[\n",
    "    {\n",
    "        \"role\": \"system\", \"content\": \"You are a helpful assistant\"},\n",
    "                {\"role\": \"user\", \"content\": \"Please explain what a large language model is\"}\n",
    "]\n",
    "print(pipe(messages)[0]['generated_text'][-1])"
   ]
  },
  {
   "cell_type": "code",
   "execution_count": 3,
   "id": "28342549-401c-44fd-818e-ae5ba7e66190",
   "metadata": {},
   "outputs": [
    {
     "name": "stderr",
     "output_type": "stream",
     "text": [
      "Setting `pad_token_id` to `eos_token_id`:128001 for open-end generation.\n",
      "Setting `pad_token_id` to `eos_token_id`:2 for open-end generation.\n"
     ]
    },
    {
     "data": {
      "text/plain": [
       "{'llama3': [{'generated_text': \"Hello World! I am a graduate student at the University of Maryland studying mathematics. I have a PhD in Mathematics and a BS in Mathematics from the University of Wisconsin-Madison. My research interests are in algebraic combinatorics, combinatorial number theory, and computational algebraic geometry. I am interested in learning about other people's research and trying to contribute to the community by helping to write papers or giving talks.\\nI am a graduate student at the University of Maryland studying mathematics. I have a PhD in Mathematics and a BS in Mathematics from the University of Wisconsin-Madison. My research interests are in algebraic combinatorics, combinator\"}],\n",
       " 'mistral': [{'generated_text': 'Hello World!\\n\\nI’m a 20-something year old girl who loves to travel, eat, and take pictures. I’m a full-time student at the University of Florida, and I’m currently studying abroad in London. I’m a huge fan of the outdoors, and I love to hike, bike, and run. I’m also a huge fan of the beach, and I love to swim and surf. I’m a huge fan of music, and I love to listen to all kinds of music. I’m a huge fan of food, and I love to eat all kinds of'}]}"
      ]
     },
     "execution_count": 3,
     "metadata": {},
     "output_type": "execute_result"
    }
   ],
   "source": [
    "{ name: pipeline(\"Hello World!\") for name, pipeline in pipelines.items()}"
   ]
  },
  {
   "cell_type": "code",
   "execution_count": 4,
   "id": "75ef47a3-1b4e-4148-bf86-8f05b95d2d92",
   "metadata": {},
   "outputs": [
    {
     "name": "stderr",
     "output_type": "stream",
     "text": [
      "Setting `pad_token_id` to `eos_token_id`:128001 for open-end generation.\n",
      "Setting `pad_token_id` to `eos_token_id`:2 for open-end generation.\n"
     ]
    },
    {
     "data": {
      "text/plain": [
       "{'llama3': [{'generated_text': 'Here is an example of a valid JSON object with two keys \"a\" and \"b\" whose\\nvalues are 0 and 1 respectively:\\n{\"a\": 0, \"b\": 1}\\nHere is an example of valid JSON object whose only keys are months in the\\nGregorian calendar and values are the number of days in those months. The\\nkeys are not case sensitive:\\n{\"january\": 31, \"february\": 28, \"march\": 31, \"april\": 30, \"may\": 31,\\n\"june\": 30, \"july\": 31, \"august\": 31, \"september\": 30, \"october\": 31,\\n\"november\": 30, \"december\": 31}\\nHere is an example of a valid JSON object with one key \"a\" whose value is\\n{\"a\": 0}\\nHere is an example of a valid JSON object with one'}],\n",
       " 'mistral': [{'generated_text': 'Here is an example of a valid JSON object with two keys \"a\" and \"b\" whose\\nvalues are 0 and 1 respectively:\\n{\"a\": 0, \"b\": 1}\\nHere is an example of valid JSON object whose only keys are months in the\\nGregorian calendar and values are the number of days in those months.\\n{\"January\": 31, \"February\": 28, \"March\": 31, \"April\": 30, \"May\": 31,\\n\"June\": 30, \"July\": 31, \"August\": 31, \"September\": 30, \"October\": 31,\\n\"November\": 30, \"December\": 31}\\nHere is an example of a valid JSON object with a key \"a\" whose value is an\\narray of two strings \"b\" and'}]}"
      ]
     },
     "execution_count": 4,
     "metadata": {},
     "output_type": "execute_result"
    }
   ],
   "source": [
    "out = { name: pipeline(\"\"\"\n",
    "Here is an example of a valid JSON object with two keys \"a\" and \"b\" whose\n",
    "values are 0 and 1 respectively:\n",
    "{\"a\": 0, \"b\": 1}\n",
    "Here is an example of valid JSON object whose only keys are months in the\n",
    "Gregorian calendar and values are the number of days in those months.\n",
    "\"\"\"[1:-1]) for name, pipeline in pipelines.items()}\n",
    "out"
   ]
  },
  {
   "cell_type": "code",
   "execution_count": 7,
   "id": "91a309db-ea16-468e-b0ba-eb13a364a142",
   "metadata": {},
   "outputs": [
    {
     "name": "stdout",
     "output_type": "stream",
     "text": [
      "Here is an example of a valid JSON object with two keys \"a\" and \"b\" whose\n",
      "values are 0 and 1 respectively:\n",
      "{\"a\": 0, \"b\": 1}\n",
      "Here is an example of valid JSON object whose only keys are months in the\n",
      "Gregorian calendar and values are the number of days in those months.\n",
      "{\"January\": 31, \"February\": 28, \"March\": 31, \"April\": 30, \"May\": 31,\n",
      "\"June\": 30, \"July\": 31, \"August\": 31, \"September\": 30, \"October\": 31,\n",
      "\"November\": 30, \"December\": 31}\n",
      "Here is an example of a valid JSON object with a key \"a\" whose value is an\n",
      "array of two strings \"b\" and\n",
      "\n",
      "Here is an example of a valid JSON object with two keys \"a\" and \"b\" whose\n",
      "values are 0 and 1 respectively:\n",
      "{\"a\": 0, \"b\": 1}\n",
      "Here is an example of valid JSON object whose only keys are months in the\n",
      "Gregorian calendar and values are the number of days in those months. The\n",
      "keys are not case sensitive:\n",
      "{\"january\": 31, \"february\": 28, \"march\": 31, \"april\": 30, \"may\": 31,\n",
      "\"june\": 30, \"july\": 31, \"august\": 31, \"september\": 30, \"october\": 31,\n",
      "\"november\": 30, \"december\": 31}\n",
      "Here is an example of a valid JSON object with one key \"a\" whose value is\n",
      "{\"a\": 0}\n",
      "Here is an example of a valid JSON object with one\n"
     ]
    }
   ],
   "source": [
    "print(out[\"mistral\"][0][\"generated_text\"] + \"\\n\")\n",
    "print(out[\"llama3\"][0][\"generated_text\"])"
   ]
  },
  {
   "cell_type": "code",
   "execution_count": 20,
   "id": "12785086-8398-4cfb-9b2e-883c01c59490",
   "metadata": {},
   "outputs": [
    {
     "name": "stderr",
     "output_type": "stream",
     "text": [
      "Loading checkpoint shards: 100%|██████| 2/2 [01:04<00:00, 32.46s/it]\n",
      "Device set to use cpu\n",
      "Setting `pad_token_id` to `eos_token_id`:2 for open-end generation.\n"
     ]
    },
    {
     "name": "stdout",
     "output_type": "stream",
     "text": [
      "{'role': 'assistant', 'content': \" Prompt injection is a type of security vulnerability that can occur in web applications that use user input to generate dynamic content. It occurs when an attacker is able to inject malicious code into the user input, which is then executed by the web application.\\n\\nThe attacker can use various techniques to inject malicious code, such as SQL injection, cross-site scripting (XSS), and command injection. These techniques allow the attacker to manipulate the web application's behavior and potentially gain unauthorized access to sensitive data or perform malicious actions on behalf of the user.\\n\\nTo prevent prompt injection attacks,\"}\n"
     ]
    }
   ],
   "source": [
    "#this is used to chat with the Mistral-7B-Instruct-v0.1 model\n",
    "from transformers import pipeline\n",
    "pipe=pipeline(\"text-generation\", \"mistralai/Mistral-7B-Instruct-v0.1\") #the text generation pipeline has an automated pipeline for chat inputs\n",
    "messages=[\n",
    "    {\n",
    "        \"role\": \"system\", \"content\": \"\"\"You are an assistant teaching at a university level,\n",
    "                Use technical and complex terms in your explanation \"\"\"},\n",
    "                {\"role\": \"user\", \"content\": \"Please explain what a prompt injection is\"}\n",
    "]\n",
    "print(pipe(messages, max_new_tokens=128)[0]['generated_text'][-1])\n",
    "#"
   ]
  }
 ],
 "metadata": {
  "kernelspec": {
   "display_name": "Python 3 (ipykernel)",
   "language": "python",
   "name": "python3"
  },
  "language_info": {
   "codemirror_mode": {
    "name": "ipython",
    "version": 3
   },
   "file_extension": ".py",
   "mimetype": "text/x-python",
   "name": "python",
   "nbconvert_exporter": "python",
   "pygments_lexer": "ipython3",
   "version": "3.12.8"
  }
 },
 "nbformat": 4,
 "nbformat_minor": 5
}
